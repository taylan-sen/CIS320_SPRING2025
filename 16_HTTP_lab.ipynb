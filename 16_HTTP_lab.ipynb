{
  "nbformat": 4,
  "nbformat_minor": 0,
  "metadata": {
    "colab": {
      "provenance": [],
      "collapsed_sections": [
        "mDtXgFsARzR2"
      ],
      "include_colab_link": true
    },
    "kernelspec": {
      "name": "python3",
      "display_name": "Python 3"
    },
    "language_info": {
      "name": "python"
    }
  },
  "cells": [
    {
      "cell_type": "markdown",
      "metadata": {
        "id": "view-in-github",
        "colab_type": "text"
      },
      "source": [
        "<a href=\"https://colab.research.google.com/github/taylan-sen/CIS320_SPRING2025/blob/main/16_HTTP_lab.ipynb\" target=\"_parent\"><img src=\"https://colab.research.google.com/assets/colab-badge.svg\" alt=\"Open In Colab\"/></a>"
      ]
    },
    {
      "cell_type": "markdown",
      "source": [
        "###In this notebook, we will go over:\n",
        "  1. HTTP protocol.\n",
        "  1. How to use TCP to interact directly with a webserver.\n",
        "\n",
        "Please complete the following activities."
      ],
      "metadata": {
        "id": "mDtXgFsARzR2"
      }
    },
    {
      "cell_type": "markdown",
      "source": [
        "## PART I: HTTP Protocol (HTTP/1.1)##\n",
        "\n",
        "**HTTP** stands for **hyper text transfer protocol**. It specifies the communication rules that a **webclient** (such as chrome, firefox, or edge) and a **webserver** (such as apache2) use to communicate with each other. Typically, the webclient requests a particular webpage, and the webserver sends the html of the page. Sometimes the webclient will send data back to the webserver, for example, when filling in forms on webpages. Recall that **html** stands for hyper text markup language, a language for creating web pages; it is different than http.\n",
        "\n",
        "### request messages ###\n",
        "**Request messages** are sent by a client to a target server and have a specific syntax that must be used. (Note: HTTP/2 and HTTP/3 have a different representation for HTTP methods and headers.)\n",
        "\n",
        "**Request syntax**\n",
        "A client sends ''request messages'' to the server, which consist of:\n",
        "\n",
        "1. a **request line**, consisting of the case-sensitive request method, a space , the requested URL, another space, the protocol version, a *carriage return* ('\\r' in python), and a *line feed* ('\\n' in python), e.g.:\n",
        "\n",
        "    <code>GET / HTTP/1.1</code>\n",
        "\n",
        "1. a **HTTP request header field** (at least 1 or more headers in case of HTTP/1.1), each consisting of the case-insensitive field name, a colon, optional leading whitespace, the field value, an optional trailing whitespace and ending with a carriage return ('\\r') and a line feed ('\\n'), e.g.:\n",
        "\n",
        "    <code>Host: www.example.com</code>\n",
        "\n",
        "1. an **empty line**, consisting of a carriage return ('\\r') and a line feed ('\\n');\n",
        "1. an optional **HTTP message body**\n",
        "\n",
        "\n",
        "In the HTTP/1.1 protocol, all header fields except <code>Host: hostname</code> are optional.\n",
        "\n",
        "HTTP 1.1 Protocol Reference:\n",
        "https://en.wikipedia.org/wiki/HTTP#HTTP/1.1_request_messages\n",
        "\n"
      ],
      "metadata": {
        "id": "sj_NDmy8VmGr"
      }
    },
    {
      "cell_type": "markdown",
      "source": [
        "In the following code cell, use TCP to connect to your Ubuntu VM's apache2 webserver directly (on the required port 80), and receive the html directly from the webserver. In other words, substite in your VM's external IP address and download your own default web page.\n",
        "\n",
        "HINT: In python, '\\r' represents a carriage return, and '\\n' represents a line feed.\n"
      ],
      "metadata": {
        "id": "sCmJ6Ae_i5U5"
      }
    },
    {
      "cell_type": "code",
      "source": [
        "import socket\n",
        "import time # for delay\n",
        "\n",
        "s = socket.socket()\n",
        "# TODO: replace niagaracomputing.org with the external IP address of your server\n",
        "target = 'niagaracomputing.org'\n",
        "s.connect((target, 80)) # recall 80 is the required http port #\n",
        "\n",
        "# TODO: change the text below to use the http request command/verb to get a\n",
        "# web page\n",
        "http_verb1 =\n",
        "\n",
        "request1 = http_verb1 + ' / HTTP/1.0\\r\\n'\n",
        "\n",
        "# TODO, uncomment and finish the code below to encode and send the request\n",
        "s.sendall(\n",
        "\n",
        "# TODO: modify the string below to represent the only required header field.\n",
        "http_verb2 =\n",
        "\n",
        "# TODO, modify string below so that it is carriage return + newline + carriage\n",
        "# return + newline\n",
        "newlines =\n",
        "\n",
        "request2 = http_verb2 + ': ' + target + newlines\n",
        "s.sendall(request2.encode())\n",
        "\n",
        "response = s.recv(2048)\n",
        "print(response.decode())\n",
        "print('complete')\n",
        "s.close()"
      ],
      "metadata": {
        "id": "UoNNy9_tizep"
      },
      "execution_count": null,
      "outputs": []
    },
    {
      "cell_type": "markdown",
      "source": [],
      "metadata": {
        "id": "34-6RC_5mzD9"
      }
    },
    {
      "cell_type": "markdown",
      "source": [
        "## PART 2: HTTP transaction summary.\n",
        "\n",
        "In a new text cell below: write about three sentences including all of the following terms that provides a summary of an HTTP client-server transaction.\n",
        "\n",
        "\n",
        "TCP, HTTP, IP ADDRESS, PORT, LISTEN, 80, REQUEST, HTML, HEADER, DNS, PACKET, GET, URL  \n",
        "\n",
        "\n",
        "If your response rhymes, you will get bonus points.   \n",
        "\n",
        "NOTE: You are welcome to use AI, just DO NOT PASTE ANY ANSWERS, you must type it yourself. Your response should absolutely not include any metadata other than raw text.  \n",
        "\n",
        "Save your sentences into a new text document: http_sequence.txt."
      ],
      "metadata": {
        "id": "dlvu7tim3v9O"
      }
    },
    {
      "cell_type": "markdown",
      "source": [
        "**SUBMISSION:**  \n",
        "Once you get things working,\n",
        "* **http_test.py**: copy and paste the cell code into a new file http_test.py.\n",
        "* **response.txt**: also, copy output below into a new text document named response.txt.\n",
        "* **http_sequence.txt**\n",
        "* Save all three of these files as a single commit into your quiz game respository.\n",
        "\n",
        "Submit these three files in canvas."
      ],
      "metadata": {
        "id": "kkbU1v0Ymzt0"
      }
    }
  ]
}