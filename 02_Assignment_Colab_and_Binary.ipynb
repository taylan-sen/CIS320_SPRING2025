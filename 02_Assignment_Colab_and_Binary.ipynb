{
  "nbformat": 4,
  "nbformat_minor": 0,
  "metadata": {
    "colab": {
      "provenance": [],
      "include_colab_link": true
    },
    "kernelspec": {
      "name": "python3",
      "display_name": "Python 3"
    },
    "language_info": {
      "name": "python"
    }
  },
  "cells": [
    {
      "cell_type": "markdown",
      "metadata": {
        "id": "view-in-github",
        "colab_type": "text"
      },
      "source": [
        "<a href=\"https://colab.research.google.com/github/taylan-sen/CIS320_SPRING2025/blob/main/02_Assignment_Colab_and_Binary.ipynb\" target=\"_parent\"><img src=\"https://colab.research.google.com/assets/colab-badge.svg\" alt=\"Open In Colab\"/></a>"
      ]
    },
    {
      "cell_type": "markdown",
      "source": [
        "<font color=\"red\">__*PLEASE:* YOU MUST WRITE YOUR OWN CODE, YOU MAY NOT SHARE CODE, YOU CAN DISCUSS WITH EACH OTHER, YOU CAN USE ANY RESOURCE ON THE INTERNET (although you should be able to find all answers in this notebook)__ </font>❗\n",
        "\n",
        "<font color=\"red\">**Also: As a first step, make sure you save your own copy of this notebook in colab.**</font>\n",
        "\n",
        "<font color=\"red\">**Directions:** Follow the directions to answer **all parts** of the 5 questions below.**</font>\n",
        "\n",
        "<hr>\n",
        "\n",
        "**This notebook will introduce you to the jupyter/colab environment and binary numbers.**\n",
        "\n",
        "<hr>\n"
      ],
      "metadata": {
        "id": "wUXbBMrAAaYy"
      }
    },
    {
      "cell_type": "markdown",
      "source": [
        "I am a **text cell**! Double click on me to edit me. Then click off of me to let me render."
      ],
      "metadata": {
        "id": "R9mVvMp8vjAC"
      }
    },
    {
      "cell_type": "code",
      "execution_count": null,
      "metadata": {
        "colab": {
          "base_uri": "https://localhost:8080/"
        },
        "id": "PJjUC-UTLayL",
        "outputId": "75defa5c-e429-4012-b17e-4442c9cc6e01"
      },
      "outputs": [
        {
          "output_type": "stream",
          "name": "stdout",
          "text": [
            "Hello World!\n"
          ]
        }
      ],
      "source": [
        "# I am a code cell! Click to play to run me!\n",
        "print('Hello World!')"
      ]
    },
    {
      "cell_type": "markdown",
      "source": [
        "### Exercise 1.\n",
        "1. Create a new code cell below this one that prints out your full name using the print function."
      ],
      "metadata": {
        "id": "vix2_W0-QRwh"
      }
    },
    {
      "cell_type": "markdown",
      "source": [
        "### Exercise 2.\n",
        "\n",
        "Create a new code cell below this one which:\n",
        "* defines the function repeat_n, which\n",
        "  * accepts two parameters, a str called s, and an integer n\n",
        "  * uses a for loop to print the string s out n times\n",
        "  * uses an if statement to deterine if n is even or odd, and prints out a message stating whether n is even or odd\n",
        "  * returns a Boolean, True if n is odd, False if n is even.\n",
        "* call this function with s = 'GO PURPLE EAGLES', and n = 3\n",
        "* call this function with s = 'CIS 320 ROCKS!', with n = 4\n",
        "\n",
        "After getting your code to work, hand-write it (by hand!) on a single page of paper and scan to pdf to submit in canvas.  \n"
      ],
      "metadata": {
        "id": "NKbOUmjz5ED3"
      }
    },
    {
      "cell_type": "markdown",
      "source": [
        "### Binary numbers\n",
        "\n",
        "We talked in class about how digital computers represent data using 1's and 0's or *binary*.\n",
        "\n",
        "When integers (or more generally any data) are printed to the screen, it can be in a different base number system than the decimal (base 10) system we are familiar with.\n",
        "\n",
        "**Base 10.** In the base 10 number system, we use the digits 0,1,2,3,4,5,6,7,8,9. A shift of one digit to the left means the digit represents 10 times more (ex: 2 and 20), two spaces to the left means multiplying by 100. Stated another way, the rightmost position of a base 10 integer represents the number of *ones* ($10^0$), the second from the right position represents the number of *tens* ($10^1$), the third from the right position represents the number of *hundreds* ($10^2$), and the $n^{th}$ position from the right represents the number of $10^ns$. For example, the number 234 means: four ones, three tens, and two hundreds.\n",
        "\n",
        "**In base 2**, or binary, only the digits 0 and 1 are used. For example, 101 is a binary number representing the decimal number 5. (Note: we usually write binary numbers with a leading \"0b\" so that we don't confuse them with decimal numbers, i.e. 101 --> 0b101) The rightmost binary integer position represents the number of *ones* ($2^0$), the second from the right position represents the number of *twos* ($2^1$), the third position from the right represents the number of *fours* ($2^2$), the fourth position from the right represents the number of *eights* ($2^3$), and so on. Base 2 is especially important for computers since data is usually represented by elements that can be in one of only two states. For example, as mentioned earlier, the voltage on a wire can be either high or low, representing either a 1 or 0. Each digit in binary represents a ***bit*** of data. Eight bits of data are called a ***byte***.\n",
        "\n",
        "**In base 16**, also called hexadecimal, the sixteen digits 0,1,2,3,4,5,6,7,8,9,A,B,C,D,E,F are used. When writing a number in hexadecimal, we usually write it with a leading \"0x\". For example 0x10 represents 16 in base ten. A shift of one to the left represents multiplying by 16, a shift of two to the left represents multiplying by 256 (i.e. 16*16), and shifting by $n$ spaces to the left represents multiplying by $16^n$).\n",
        "\n",
        "\n",
        "|Decimal|Binary|Hexadecimal|\n",
        "|---:|---:|---:|\n",
        "|0|0|0|\n",
        "|1|1|1|\n",
        "|2|10|2|\n",
        "|3|11|3|\n",
        "|4|100|4|\n",
        "|5|101|5|\n",
        "|6|110|6|\n",
        "|7|111|7|\n",
        "|8|1000|8|\n",
        "|9|1001|9|\n",
        "|10|1010|A|\n",
        "|11|1011|B|\n",
        "|12|1100|C|\n",
        "|13|1101|D|\n",
        "|14|1110|E|\n",
        "|15|1111|F|\n",
        "|16|10000|10|\n",
        "|17|10001|11|\n",
        "\n",
        "Python provides some useful functions for converting numbers between bases:\n",
        "\n",
        "    bin(<input int>)                 # convert a number TO a binary str\n",
        "    hex(<input int>)                 # convert a number TO a hexadecimal str\n",
        "    int(<input str>, <source base>)  # convert FROM a base other than 10"
      ],
      "metadata": {
        "id": "ahwO3uWyTmga"
      }
    },
    {
      "cell_type": "code",
      "source": [
        "# bin and hex\n",
        "# The bin function converts an int (base 10) to a binary string\n",
        "b = bin(13)\n",
        "print('13 in binary is: ',b)\n",
        "print('type(b)=', type(b))\n",
        "\n",
        "# the hex function converts an int (base 10) into a base 16 string\n",
        "h = hex(13)\n",
        "print('13 in hexadecimal is: ',h)\n",
        "print('type(h)=', type(h))"
      ],
      "metadata": {
        "id": "LOHQs80D5CG8"
      },
      "execution_count": null,
      "outputs": []
    },
    {
      "cell_type": "code",
      "source": [
        "# int conversion\n",
        "# the int function can convert from a different base back into an int\n",
        "d = int(b,2) # binary to decimal\n",
        "print('d=',d)\n",
        "print('type(d)=', type(d))\n",
        "\n",
        "d2 = int(h,16) # hexadecimal to decimal\n",
        "print('d2=',d2)\n",
        "print('type(d2)=', type(d2))\n"
      ],
      "metadata": {
        "id": "gGIBEr8JcsXj"
      },
      "execution_count": null,
      "outputs": []
    },
    {
      "cell_type": "markdown",
      "source": [
        "### Exercise 3\n",
        "\n",
        "1. Without the use of a computer, make sure you understand how to convert between binary and decimal (For example, you should be able to write the following base 10 numbers in binary: 0, 7, 15, 255; and you should be able to write the following binary numbers in base 10: 10, 100, 101, 11111111, 100000000.) [There is nothing to turn in for this subquestion. ]\n",
        "\n",
        "### Exercise 4\n",
        "1. In a new code cell below, use the functions above to print out the decimal numbers 7, 1776, 2024 in binary.\n",
        "1. In a new code cell below, use the functions above to print out the decimal representation of the binary number 0b1011010101110101."
      ],
      "metadata": {
        "id": "cyHMgqqfUa10"
      }
    },
    {
      "cell_type": "markdown",
      "source": [
        "\n",
        "<hr>\n",
        "\n",
        "**SUBMISSION: Be sure to save this notebook, then download the .ipynb to your computer; and then submit (upload) the .ipynb file to the canvas assignment submission page. Don't forget to also upload the scanned hand written code as specified above (just the for the cell with the repeat_n function).**"
      ],
      "metadata": {
        "id": "dxLfMgyyN3ju"
      }
    }
  ]
}